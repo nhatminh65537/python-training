{
 "cells": [
  {
   "cell_type": "markdown",
   "id": "b028a4bc-353d-44ca-867b-4b1fca53fc63",
   "metadata": {},
   "source": [
    "# Python\n",
    "\n",
    "References:\n",
    "- [docs.python.org](https://docs.python.org/3/)\n",
    "- [realpython.com](https://realpython.com/)\n",
    "- [www.w3schools.com](https://www.w3schools.com/python/)\n",
    "\n",
    "## Chap 3. Flow Control and Function\n",
    "\n",
    "### `if` Statement\n",
    "\n",
    "**Syntax:**  \n",
    "```python\n",
    "if <condition>:\n",
    "    <statement>\n",
    "    ...\n",
    "[elif <condition>:\n",
    "    <statement>\n",
    "    ...\n",
    "...]\n",
    "[else:\n",
    "    <statement>]\n",
    "```\n",
    "\n",
    "> **Tips:** We can use `if` statement as ternary `?:` in other language.  \n",
    "> **Syntax:** `<expression> if <condition> else <expression>`"
   ]
  },
  {
   "cell_type": "code",
   "execution_count": 1,
   "id": "ecdaab58-de1a-438f-8df8-328cc750c38f",
   "metadata": {},
   "outputs": [
    {
     "name": "stdout",
     "output_type": "stream",
     "text": [
      "More\n",
      "Less than 100\n"
     ]
    }
   ],
   "source": [
    "%reset -f\n",
    "# Example\n",
    "\n",
    "x = int(input(\"Please enter an integer: \"))\n",
    "\n",
    "if x < 0:\n",
    "    x = 0\n",
    "    print('Negative changed to zero')\n",
    "elif x == 0:\n",
    "    print('Zero')\n",
    "elif x == 1:\n",
    "    print('Single')\n",
    "else:\n",
    "    print('More')\n",
    "\n",
    "print((\"Less\" if x < 100 else \"Greater\") + \" than 100\")"
   ]
  },
  {
   "cell_type": "markdown",
   "id": "f88ef735-4a88-4888-90c6-8aef3e62f497",
   "metadata": {},
   "source": [
    "\n",
    "### `while` Statement\n",
    "\n",
    "**Syntax:**\n",
    "```python\n",
    "while <condition>:\n",
    "    <statment>\n",
    "    ...\n",
    "```\n"
   ]
  },
  {
   "cell_type": "code",
   "execution_count": null,
   "id": "eb879401-16f5-4da0-b7ae-65c93809710a",
   "metadata": {},
   "outputs": [],
   "source": [
    "%reset -f\n",
    "# Example\n",
    "\n",
    "a, b = 0, 1\n",
    "while a < 100000:\n",
    "    print(a, end=', ')\n",
    "    a, b = b, a+b\n"
   ]
  },
  {
   "cell_type": "markdown",
   "id": "146fbef5-24a5-4d51-8cef-955af90dedc7",
   "metadata": {},
   "source": [
    "\n",
    "### `for` Statement\n",
    "\n",
    "**Syntax:**\n",
    "```python\n",
    "for <var_list> in <iterable object>:\n",
    "    <statement>\n",
    "    ...\n"
   ]
  },
  {
   "cell_type": "code",
   "execution_count": 2,
   "id": "c1f61a91-47f3-4b7f-80e6-ff30e58d37b5",
   "metadata": {},
   "outputs": [
    {
     "name": "stdout",
     "output_type": "stream",
     "text": [
      "cat 3\n",
      "window 6\n",
      "defenestrate 12\n"
     ]
    }
   ],
   "source": [
    "%reset -f\n",
    "# Example on list\n",
    "\n",
    "words = ['cat', 'window', 'defenestrate']\n",
    "for w in words:\n",
    "    print(w, len(w))"
   ]
  },
  {
   "cell_type": "code",
   "execution_count": null,
   "id": "6f52210d-358a-43fb-bdd1-c4860e00befe",
   "metadata": {},
   "outputs": [],
   "source": [
    "%reset -f\n",
    "# Example on dictionary\n",
    "\n",
    "animals = dict(cat=100, dog=115, chicken=99, kitty=50)\n",
    "animal_items = animals.items()\n",
    "print(f\"{animal_items = }\")\n",
    "for animal, score in animal_items:\n",
    "    print(f\"{animal} has {score} mark\")"
   ]
  },
  {
   "cell_type": "code",
   "execution_count": null,
   "id": "7b6eee7c-87b0-4f6a-82c7-8967c7efa086",
   "metadata": {},
   "outputs": [],
   "source": [
    "%reset -f\n",
    "# Example on range\n",
    "\n",
    "for i in range(10):\n",
    "    print(i, end=' ')\n",
    "\n",
    "# for _ in range(n):\n",
    "#     ....\n",
    "\n",
    "print(\"\\n\", \"-\"*10)\n",
    "\n",
    "a = ['Mary', 'had', 'a', 'little', 'lamb']\n",
    "for i in range(len(a)):\n",
    "    print(i, a[i])\n"
   ]
  },
  {
   "cell_type": "markdown",
   "id": "28bef67e-b93f-4c8b-a4de-24eed20511b7",
   "metadata": {},
   "source": [
    "\n",
    "#### More looping technique\n",
    "\n",
    "**enumerate()**"
   ]
  },
  {
   "cell_type": "code",
   "execution_count": null,
   "id": "3d77389b-f283-44c9-be50-13797b979640",
   "metadata": {},
   "outputs": [],
   "source": [
    "%reset -f\n",
    "\n",
    "ivs = enumerate(['tic', 'tac', 'toe'])\n",
    "# print(f\"{list(ivs) = }\")\n",
    "\n",
    "for i, v in ivs: # iterator\n",
    "    print(i, v)"
   ]
  },
  {
   "cell_type": "markdown",
   "id": "4fb75c09-4c47-44b0-96df-4748fd2cc1ba",
   "metadata": {},
   "source": [
    "\n",
    "**zip()**"
   ]
  },
  {
   "cell_type": "code",
   "execution_count": null,
   "id": "5a72f0d4-8917-4217-b7de-9f1013c1e8a8",
   "metadata": {},
   "outputs": [],
   "source": [
    "%reset -f\n",
    "\n",
    "questions = ['name', 'quest', 'favorite color']\n",
    "answers = ['lancelot', 'the holy grail', 'blue']\n",
    "print(f\"{list(zip(questions, answers)) = }\")\n",
    "\n",
    "for q, a in zip(questions, answers): # iterator\n",
    "    print('What is your {0}?  It is {1}.'.format(q, a))\n"
   ]
  },
  {
   "cell_type": "markdown",
   "id": "f7d6fb4b-3a92-4436-b346-c11d758ab108",
   "metadata": {},
   "source": [
    "\n",
    "**reversed()**"
   ]
  },
  {
   "cell_type": "code",
   "execution_count": null,
   "id": "9bedfd71-a35a-4cee-bc7a-dfdc62f3df3f",
   "metadata": {},
   "outputs": [],
   "source": [
    "%reset -f\n",
    "\n",
    "for i in reversed(range(1, 10, 2)): # iterator\n",
    "    print(i)"
   ]
  },
  {
   "cell_type": "markdown",
   "id": "7583ecf0-5e33-46fe-a274-de43383bfd4e",
   "metadata": {},
   "source": [
    "\n",
    "**sorted()**"
   ]
  },
  {
   "cell_type": "code",
   "execution_count": null,
   "id": "e8edc0d9-71c1-4ea5-9924-1cca13836278",
   "metadata": {},
   "outputs": [],
   "source": [
    "basket = ['apple', 'orange', 'apple', 'pear', 'orange', 'banana']\n",
    "for i in sorted(basket): # list (not iterator)\n",
    "    print(i)\n"
   ]
  },
  {
   "cell_type": "markdown",
   "id": "f9fcd646-2a45-425f-a43a-a1bb61111c1c",
   "metadata": {},
   "source": [
    "\n",
    "#### List, Set, Dictionary Comprehension\n",
    "\n",
    "##### List comprehension\n",
    "\n",
    "**Problem.** Create a list of squares of first n number (example, n = 10).\n",
    "- Newbie way\n",
    "```python\n",
    "squares = []\n",
    "for x in range(10):\n",
    "    squares.append(x**2)\n",
    "```\n",
    "\n",
    "- Use builtin function `map()`\n",
    "```python\n",
    "squares = list(map(lambda x: x**2, range(10)))\n",
    "```\n",
    "\n",
    "- Use list comprehension  \n",
    "```python\n",
    "squares = [x**2 for x in range(10)]\n",
    "```\n",
    "\n",
    "**Syntax:** `[<expression> for <var_list> in <iterable> [for <var_list_inner> in <iterable_inner> ...] [if <condition>]]`  \n",
    "**Expand form:**\n",
    "```python\n",
    "l = []\n",
    "for <var_list> in <iterable>:\n",
    "    [for <var_list_inner> in <iterable_inner>:\n",
    "        ...]\n",
    "        [if <condition>:]\n",
    "            l.append(<expression>)\n",
    "```\n"
   ]
  },
  {
   "cell_type": "code",
   "execution_count": 3,
   "id": "7bd06926-a7b1-44b6-b352-3ae46541e077",
   "metadata": {},
   "outputs": [
    {
     "name": "stdout",
     "output_type": "stream",
     "text": [
      "l1 = [(1, 3), (1, 4), (2, 3), (2, 1), (2, 4), (3, 1), (3, 4)]\n",
      "l2 = [1, 2, 3, 4, 5, 6, 7, 8, 9]\n",
      "l3 = [('ord(q)', 113), ('ord(w)', 119), ('ord(e)', 101), ('ord(r)', 114), ('ord(t)', 116), ('ord(y)', 121)]\n",
      "l4 = ['zero', 'positive', 'negative', 'zero', 'positive', 'negative', 'zero', 'positive', 'negative', 'zero']\n",
      "Transpose: \n",
      " [1, 5, 9]\n",
      " [2, 6, 10]\n",
      " [3, 7, 11]\n",
      " [4, 8, 12]\n"
     ]
    }
   ],
   "source": [
    "%reset -f\n",
    "# Example list comprehension\n",
    "\n",
    "l1 = [(x, y) for x in [1,2,3] for y in [3,1,4] if x != y]\n",
    "print(f\"{l1 = }\")\n",
    "\n",
    "vec = [[1,2,3], [4,5,6], [7,8,9]]\n",
    "l2 = [num for elem in vec for num in elem]\n",
    "print(f\"{l2 = }\")\n",
    "\n",
    "l3 = [(f\"ord({c})\", ord(c)) for c in \"qwerty\"]\n",
    "print(f\"{l3 = }\")\n",
    "\n",
    "l4 = [\"zero\" if x - y == 0 else \"negative\" if x - y > 0 else \"positive\" for x in range(4) for y in range(4) if abs(x - y) < 2]\n",
    "print(f\"{l4 = }\")\n",
    "\n",
    "# Nested\n",
    "matrix = [\n",
    "    [1, 2, 3, 4],\n",
    "    [5, 6, 7, 8],\n",
    "    [9, 10, 11, 12],\n",
    "]\n",
    "l5 = [[row[i] for row in matrix] for i in range(4)]\n",
    "print(\"Transpose: \", *l5, sep='\\n ')\n",
    "\n",
    "# ~ list(zip(*matrix))"
   ]
  },
  {
   "cell_type": "markdown",
   "id": "f9de8181-dec9-41a9-aa81-d17e2273a027",
   "metadata": {},
   "source": [
    "\n",
    "#### Set comprehension\n",
    "\n",
    "Similarly to list comprehensions"
   ]
  },
  {
   "cell_type": "code",
   "execution_count": null,
   "id": "c45c98ce-a4d4-445c-914a-990ba10d104b",
   "metadata": {},
   "outputs": [],
   "source": [
    "%reset -f\n",
    "# Example\n",
    "\n",
    "a = {x for x in 'abracadabra' if x not in 'abc'}\n",
    "print(f\"{a = }\")\n"
   ]
  },
  {
   "cell_type": "markdown",
   "id": "1f3b201d-94fd-453f-8e53-4ad0c44b1574",
   "metadata": {},
   "source": [
    "\n",
    "#### Dictionary comprehension\n",
    "\n",
    "Similarly to list comprehensions, but use `<key_expression>: <value_expression>` instead of `<expression>` inf list comprehension. "
   ]
  },
  {
   "cell_type": "code",
   "execution_count": 4,
   "id": "3ba643fe-276c-482b-9754-e2481652b1ee",
   "metadata": {},
   "outputs": [
    {
     "name": "stdout",
     "output_type": "stream",
     "text": [
      "d = {2: 4, 4: 16, 6: 36}\n"
     ]
    }
   ],
   "source": [
    "%reset -f\n",
    "# Example\n",
    "\n",
    "d = {x: x**2 for x in (2, 4, 6)}\n",
    "print(f\"{d = }\")"
   ]
  },
  {
   "cell_type": "markdown",
   "id": "ec6b3bb7-fae3-4285-9866-f28c768d1e82",
   "metadata": {},
   "source": [
    "\n",
    "### `break` and `continue` Statement\n",
    "\n",
    "- The `break` statement breaks out of the innermost enclosing `for` or `while` loop.\n",
    "- The `continue` statement continues with the next iteration of the loop.\n",
    "\n",
    "> **Tip:** when we want to break all loop, to simplify, we should use function and return when you need break. Or you can use `else` statement if it's better.\n"
   ]
  },
  {
   "cell_type": "code",
   "execution_count": null,
   "id": "e8a16dbc-fdf1-476b-98fe-3982a4f151e0",
   "metadata": {},
   "outputs": [],
   "source": [
    "%reset -f\n",
    "# Example\n",
    "for n in range(2, 10):\n",
    "    for x in range(2, n):\n",
    "        if n % x == 0:\n",
    "            print(f\"{n} equals {x} * {n//x}\")\n",
    "            break\n",
    "        "
   ]
  },
  {
   "cell_type": "code",
   "execution_count": null,
   "id": "37831fc1-7a93-4e8e-a9d0-d7a25bd261a9",
   "metadata": {},
   "outputs": [],
   "source": [
    "%reset -f\n",
    "# Example\n",
    "for num in range(2, 10):\n",
    "    if num % 2 == 0:\n",
    "        print(f\"Found an even number {num}\")\n",
    "        continue\n",
    "    print(f\"Found an odd number {num}\")"
   ]
  },
  {
   "cell_type": "markdown",
   "id": "18818d23-9c1d-4e9d-b23b-0b3839d35e62",
   "metadata": {},
   "source": [
    "\n",
    "### `else` Clauses on Loops\n",
    "\n",
    "- In a `for` loop, the `else` clause is executed after the loop finishes its final iteration, that is, if no break occurred.\n",
    "- In a `while` loop, it’s executed after the loop’s condition becomes false.\n",
    "- In either kind of loop, the `else` clause is not executed if the loop was terminated by a break.\n",
    "- Other ways of ending the loop early, such as a **return** or a **raised exception**, will also skip execution of the `else` clause."
   ]
  },
  {
   "cell_type": "code",
   "execution_count": null,
   "id": "8ba31040-18f4-43b2-85af-a974b3f8e38f",
   "metadata": {},
   "outputs": [],
   "source": [
    "%reset -f\n",
    "# Example\n",
    "\n",
    "for n in range(2, 10):\n",
    "    for x in range(2, n):\n",
    "        if n % x == 0:\n",
    "            print(n, 'equals', x, '*', n//x)\n",
    "            break\n",
    "    else:\n",
    "        # loop fell through without finding a factor\n",
    "        print(n, 'is a prime number')\n"
   ]
  },
  {
   "cell_type": "markdown",
   "id": "9d0c7df8-feaf-4e3d-880c-d6246af74de7",
   "metadata": {},
   "source": [
    "\n",
    "### `pass` Statement\n",
    "\n",
    "The pass statement does nothing. It can be used when a statement is required syntactically but the program requires no action.\n"
   ]
  },
  {
   "cell_type": "code",
   "execution_count": null,
   "id": "e1992a84-23cc-43ba-89d8-52c1917e514e",
   "metadata": {},
   "outputs": [],
   "source": [
    "%reset -f\n",
    "# Example\n",
    "\n",
    "for i in range(1000):\n",
    "    pass\n"
   ]
  },
  {
   "cell_type": "markdown",
   "id": "09d46471-c225-4291-b52a-865634b0a976",
   "metadata": {},
   "source": [
    "\n",
    "### `match` Statement\n",
    "\n",
    "- This is superficially similar to a **`switch` statement** in C, Java or JavaScript (and many other languages), but it’s more similar to **pattern matching** in languages like Rust or Haskell.\n",
    "- Only the first pattern that matches gets executed and it can also extract components (sequence elements or object attributes) from the value into variables.\n",
    "\n",
    "**Syntax:**\n",
    "```python\n",
    "match <expression>:\n",
    "    case <pattern_1> [if <expression>]:\n",
    "        <statement>\n",
    "        ...\n",
    "    [...\n",
    "    case <pattern_n> [if <expression>]::\n",
    "        <statement>\n",
    "        ...\n",
    "    [case _ [if <expression>]:\n",
    "        <statement>\n",
    "        ...\n",
    "    ]]\n",
    "```\n",
    "\n",
    "**`if <expression>`** after pattern called **guard**.\n",
    "**`_`** is a wildcard.\n",
    "\n",
    "**Patterns:**\n",
    "- Literals\n",
    "- Variables\n",
    "- Combine of single patterns with `|`\n",
    "- Sequences pattern.\n",
    "- Mapping patterns.\n",
    "- Unpack class object `<expression>` pattern.\n",
    "\n",
    "For more about **pattern** see [here](https://docs.python.org/3/reference/compound_stmts.html#the-match-statement)\n",
    "Learn more about `match` see [here](https://docs.python.org/3/tutorial/controlflow.html#match-statements)\n"
   ]
  },
  {
   "cell_type": "code",
   "execution_count": null,
   "id": "3885fe60-3368-4169-be58-2d88185ae4ed",
   "metadata": {},
   "outputs": [],
   "source": [
    "%reset -f\n",
    "# Example\n",
    "\n",
    "status = 500\n",
    "\n",
    "match status:\n",
    "    case 400:\n",
    "        print(\"Bad request\")\n",
    "    case 404:\n",
    "        print(\"Not found\")\n",
    "    case 418:\n",
    "        print(\"I'm a teapot\")\n",
    "    case 401 | 402 | 403:\n",
    "        print(\"Not allowed\")\n",
    "    case x if x < 400:\n",
    "        print(\"In valid range\")\n",
    "    case _:\n",
    "        print(\"Something's wrong with the internet\")\n"
   ]
  },
  {
   "cell_type": "code",
   "execution_count": 5,
   "id": "6d990e6c-4619-4944-9f81-955ba9a6aa7b",
   "metadata": {},
   "outputs": [
    {
     "name": "stdout",
     "output_type": "stream",
     "text": [
      "Y=20\n"
     ]
    }
   ],
   "source": [
    "%reset -f\n",
    "# Example\n",
    "\n",
    "point = (0, 20)\n",
    "\n",
    "match point:\n",
    "    case (0, 0):\n",
    "        print(\"Origin\")\n",
    "    case (0, y):\n",
    "        print(f\"Y={y}\")\n",
    "    case x, 0:\n",
    "        print(f\"X={x}\")\n",
    "    case x, y:\n",
    "        print(f\"X={x}, Y={y}\")\n",
    "    case _:\n",
    "        raise ValueError(\"Not a point\")"
   ]
  },
  {
   "cell_type": "code",
   "execution_count": null,
   "id": "b997ded5-b903-4c6e-a741-46a3a5c3dde5",
   "metadata": {},
   "outputs": [],
   "source": [
    "%reset -f\n",
    "# Example\n",
    "\n",
    "class Point:\n",
    "    def __init__(self, x, y):\n",
    "        self.x = x\n",
    "        self.y = y\n",
    "\n",
    "point = Point(10, 0)\n",
    "\n",
    "match point:\n",
    "    case Point(x=0, y=0):\n",
    "        print(\"Origin\")\n",
    "    case Point(x=0, y=y):\n",
    "        print(f\"Y={y}\")\n",
    "    case Point(x=x, y=0):\n",
    "        print(f\"X={x}\")\n",
    "    case Point():\n",
    "        print(\"Somewhere else\")\n",
    "    case _:\n",
    "        print(\"Not a point\")"
   ]
  },
  {
   "cell_type": "code",
   "execution_count": null,
   "id": "6e91a62b-41f9-4d26-b384-83691454f633",
   "metadata": {},
   "outputs": [],
   "source": [
    "%reset -f\n",
    "# Example\n",
    "\n",
    "point = (1, 2, 1, 0)\n",
    "\n",
    "match point:\n",
    "    case (0, 0, *rest):\n",
    "        print(f\"Both axis 0 and axis 1 is equal to 0 and rest of point is {rest}\")\n",
    "    \n",
    "    case (x, 0, *_) | (0, x, *_):\n",
    "        print(f\"Axis 0 and axis 1 has only one non zero with value = {x}\")\n",
    "    \n",
    "    case (x, y, *_) if x == y:\n",
    "        print(\"axis 0 value is same as axis 1 value\")\n",
    "    \n",
    "    case _:\n",
    "        print(f\"{point = }\")"
   ]
  },
  {
   "cell_type": "code",
   "execution_count": null,
   "id": "d9084d29-5682-42d7-8580-3407d3eda7ae",
   "metadata": {},
   "outputs": [],
   "source": [
    "%reset -f\n",
    "# Example\n",
    "\n",
    "d = {'ichi': 2, 'san': 3, 'yon': 1, 'ni': 4}\n",
    "\n",
    "match d:\n",
    "    case {'ichi': 1}:\n",
    "        print('ichi is true')\n",
    "    \n",
    "    case {'ni': 2}:\n",
    "        print('ni is true')\n",
    "    \n",
    "    case {'san': 3, **rest}:\n",
    "        print('san is true')\n",
    "        print(f\"{rest = }\")\n",
    "    \n",
    "    case {'yon': 4, **rest}:\n",
    "        print('yon is true')\n",
    "        print(f\"{rest = }\")\n",
    "        "
   ]
  },
  {
   "cell_type": "markdown",
   "id": "12192bb0-95d1-462d-a51a-2469b022549e",
   "metadata": {},
   "source": [
    "\n",
    "### Function\n",
    "\n",
    "#### Defining Function\n",
    "\n",
    "**Syntax:**\n",
    "```python\n",
    "def <function_name>([<parameter_list>]):\n",
    "    [<docstring>]\n",
    "    <statement>\n",
    "    ...\n",
    "    [return <return_value>]\n",
    "```\n",
    "\n",
    "- The execution of a function introduces a new **symbol table** used for the **local variables** of the function.\n",
    "- A function definition associates the function name with the function object in the current symbol table.\n",
    "- Functions without a `return` statement do return a value, albeit a rather boring one. This value is called `None`.\n",
    "- Function nested in function is valid.\n",
    " "
   ]
  },
  {
   "cell_type": "code",
   "execution_count": 6,
   "id": "3cd76748-2cd2-4c98-beb1-13f4116ac8fe",
   "metadata": {},
   "outputs": [
    {
     "name": "stdout",
     "output_type": "stream",
     "text": [
      "f100 = [0, 1, 1, 2, 3, 5, 8, 13, 21, 34, 55, 89]\n"
     ]
    }
   ],
   "source": [
    "%reset -f\n",
    "# Exmample\n",
    "def fib(n):  # return Fibonacci series up to n\n",
    "    \"\"\"Return a list containing the Fibonacci series up to n.\"\"\"\n",
    "    result = []\n",
    "    a, b = 0, 1\n",
    "    while a < n:\n",
    "        result.append(a)    # see below\n",
    "        a, b = b, a+b\n",
    "    return result\n",
    "\n",
    "f = fib\n",
    "\n",
    "f100 = f(100)        # call it\n",
    "print(f\"{f100 = }\")  # write the result"
   ]
  },
  {
   "cell_type": "markdown",
   "id": "37655c8e-f5b0-49a1-a69e-c24c9f8868d0",
   "metadata": {},
   "source": [
    "\n",
    "#### Default Argument Values\n",
    "\n",
    "- The default values are evaluated at the point of function definition in the defining scope\n",
    "- The default value is evaluated only once.\n"
   ]
  },
  {
   "cell_type": "code",
   "execution_count": 7,
   "id": "aa454c54-5ece-4ad3-bc17-e47efbaea258",
   "metadata": {},
   "outputs": [
    {
     "name": "stdout",
     "output_type": "stream",
     "text": [
      "[2]\n",
      "[2, 3]\n",
      "[2, 3, 5]\n"
     ]
    }
   ],
   "source": [
    "%reset -f\n",
    "# Example\n",
    "val = 2\n",
    "def f(a = val, L=[]):\n",
    "    L.append(a)\n",
    "    return L\n",
    "\n",
    "val = 1\n",
    "print(f())\n",
    "print(f(3))\n",
    "print(f(5))"
   ]
  },
  {
   "cell_type": "markdown",
   "id": "b6560c5d-3901-48d0-a39f-05611cad416e",
   "metadata": {},
   "source": [
    "\n",
    "#### Keyword Arguments\n",
    "\n",
    "`kwarg=value`\n",
    "\n",
    "Exmaple:\n",
    "```python\n",
    "def parrot(voltage, state='a stiff', action='voom', type='Norwegian Blue'):\n",
    "    print(\"-- This parrot wouldn't\", action, end=' ')\n",
    "    print(\"if you put\", voltage, \"volts through it.\")\n",
    "    print(\"-- Lovely plumage, the\", type)\n",
    "    print(\"-- It's\", state, \n",
    "```\n",
    "\n",
    "Valid call:\n",
    "```python\n",
    "parrot(1000)                                          # 1 positional argument\n",
    "parrot(voltage=1000)                                  # 1 keyword argument\n",
    "parrot(voltage=1000000, action='VOOOOOM')             # 2 keyword arguments\n",
    "parrot(action='VOOOOOM', voltage=1000000)             # 2 keyword arguments\n",
    "parrot('a million', 'bereft of life', 'jump')         # 3 positional arguments\n",
    "parrot('a thousand', state='pushing up the daisies')  # 1 positional, 1 ke\n",
    "```\n",
    "\n",
    "Invalid call:\n",
    "```python\n",
    "parrot()                     # required argument missing\n",
    "parrot(voltage=5.0, 'dead')  # non-keyword argument after a keyword argument\n",
    "parrot(110, voltage=220)     # duplicate value for the same argument\n",
    "parrot(actor='John Cleese')  # unknown keyword argum\n",
    "```\n",
    "entyword\"!\")"
   ]
  },
  {
   "cell_type": "code",
   "execution_count": null,
   "id": "7e6f6767-e5ed-4bd4-9284-68e73a7c2410",
   "metadata": {},
   "outputs": [],
   "source": [
    "%reset -f\n",
    "# Example\n",
    "\n",
    "def parrot(voltage, state='a stiff', action='voom', type='Norwegian Blue'):\n",
    "    print(\"-- This parrot wouldn't\", action, end=' ')\n",
    "    print(\"if you put\", voltage, \"volts through it.\")\n",
    "    print(\"-- Lovely plumage, the\", type)\n",
    "    print(\"-- It's\", state, \"!\")\n",
    "\n",
    "parrot(voltage=1000000, action='VOOOOOM')             \n",
    "parrot(action='VOOOOOM', voltage=1000000)             \n",
    "parrot('a million', 'bereft of life', 'jump')  "
   ]
  },
  {
   "cell_type": "markdown",
   "id": "2609cc65-ec9e-4d5b-b6a1-327495d4590f",
   "metadata": {},
   "source": [
    "**Special parameters**\n",
    "\n",
    "```python\n",
    "def f(pos1, pos2, /, pos_or_kwd, *, kwd1, kwd2):\n",
    "      -----------    ----------     ----------\n",
    "        |             |                  |\n",
    "        |        Positional or keyword   |\n",
    "        |                                - Keyword only\n",
    "        -- Positional only\n",
    "```\n"
   ]
  },
  {
   "cell_type": "code",
   "execution_count": null,
   "id": "bf0ec749-2e44-408d-b7f2-cc8d89e348a4",
   "metadata": {},
   "outputs": [],
   "source": [
    "%reset -f\n",
    "# Example\n",
    "\n",
    "def standard_arg(arg):\n",
    "    print(arg)\n",
    "\n",
    "def pos_only_arg(arg, /):\n",
    "    print(arg)\n",
    "\n",
    "def kwd_only_arg(*, arg):\n",
    "    print(arg)\n",
    "\n",
    "def combined_example(pos_only, /, standard, *, kwd_only):\n",
    "    print(pos_only, standard, kwd_only)\n",
    "\n",
    "standard_arg(\"standard_arg\")\n",
    "standard_arg(arg=\"standard_arg\")\n",
    "\n",
    "pos_only_arg(\"pos_only_arg\")\n",
    "\n",
    "kwd_only_arg(arg=\"kwd_only_arg\")\n",
    "\n",
    "combined_example(1, 2, kwd_only=3)\n",
    "combined_example(1, standard=2, kwd_only=3)"
   ]
  },
  {
   "cell_type": "markdown",
   "id": "f1f593c8-487a-4829-9ddf-93ada0742060",
   "metadata": {},
   "source": [
    "\n",
    "#### Unpacking Argument Lists\n",
    "\n",
    "- With set, list, tuple, use `*` to pass to *pos_arg*.\n",
    "- With dictionary use `**` to pass to *kwd_arg*.\n"
   ]
  },
  {
   "cell_type": "code",
   "execution_count": null,
   "id": "4a9f1187-c438-4d00-b412-ff5282f9d4e8",
   "metadata": {},
   "outputs": [],
   "source": [
    "%reset -f\n",
    "# Example\n",
    "\n",
    "def f(a, b, c, d):\n",
    "    print(f\"{a = }, {b = }, {c = }, {d = }\")\n",
    "\n",
    "s = {1}\n",
    "l = [2, 3]\n",
    "t = (4, 5, 6)\n",
    "d1 = {\"d\": 7}\n",
    "d2 = {\"b\": 8, \"c\": 9}\n",
    "\n",
    "f(*l, *s, **d1)\n",
    "f(*t, **d1)\n",
    "f(*s, **d1, **d2)"
   ]
  },
  {
   "cell_type": "markdown",
   "id": "7f199f92-2b53-4a2c-b4e1-dd7b41c34a64",
   "metadata": {},
   "source": [
    "\n",
    "#### Arbitrary Argument Lists\n",
    "\n",
    "- Use `*` in parameter list to pack remain posional argument.\n",
    "- Use `**` in parameter list to pack remain keyword argument.\n",
    "\n",
    "> After `*` parameter is keyword-only parameter.\n",
    "> No parameter define after `**` parameter."
   ]
  },
  {
   "cell_type": "code",
   "execution_count": null,
   "id": "0e8e4dcb-ebdd-4db6-a61f-35bc51e6cdc4",
   "metadata": {},
   "outputs": [],
   "source": [
    "%reset -f\n",
    "# Example\n",
    "\n",
    "def f(a, *b, c, **d):\n",
    "    print(f\"{a = }, {b = }, {c = }, {d = }\")\n",
    "\n",
    "f(1, e=1, c=2, s=3)\n",
    "f(1, 2, 3, e=1, c=2, s=3)\n",
    "\n",
    "d1 = {'e': 1, 'c': 2, 's': 3}\n",
    "d2 = {'d': 4, 'b': 5}\n",
    "t1 = (7, 8)\n",
    "t2 = (9, 0)\n",
    "f(*t1, *t2, **d2, **d1)"
   ]
  },
  {
   "cell_type": "markdown",
   "id": "9c99d5ff-59a2-437d-89a1-28d2eaa02a57",
   "metadata": {},
   "source": [
    "**Problem:**\n",
    "```python\n",
    "def foo(name, **kwds):\n",
    "    return 'name' in kwds\n",
    "\n",
    "foo(1, **{'name': 2})\n",
    "```\n",
    "\n",
    "**Solution:**\n",
    "```python\n",
    "def foo(name, /, **kwds):\n",
    "    return 'name' in kwds\n",
    "\n",
    "foo(1, **{'name': 2})\n",
    "```\n",
    "\n",
    "#### Lambda Expressions\n",
    "\n",
    "Small anonymous functions can be created with the lambda keyword.  \n",
    "**Syntax:** `lambda <parameter_list>: <expression>`\n",
    "\n",
    "> All about python's expression syntax, check [here](https://docs.python.org/3/reference/expressions.html).\n"
   ]
  },
  {
   "cell_type": "code",
   "execution_count": 8,
   "id": "6cabeb70-c0b8-4ea9-858b-78d038dd6acb",
   "metadata": {},
   "outputs": [
    {
     "name": "stdout",
     "output_type": "stream",
     "text": [
      "a = 7, b = (8, 9, 0), c = 2, d = {'d': 4, 'b': 5, 'e': 1, 's': 3}\n",
      "['hello', 'help', 'tuple', 'hi', 'list']\n"
     ]
    }
   ],
   "source": [
    "%reset -f\n",
    "# Example\n",
    "\n",
    "f = lambda a, / ,*b, c, **d: f\"{a = }, {b = }, {c = }, {d = }\"\n",
    "\n",
    "d1 = {'e': 1, 'c': 2, 's': 3}\n",
    "d2 = {'d': 4, 'b': 5}\n",
    "t1 = (7, 8)\n",
    "t2 = (9, 0)\n",
    "print(f(*t1, *t2, **d2, **d1))\n",
    "\n",
    "strs = [\"hello\", \"help\", \"hi\", \"list\", \"tuple\"]\n",
    "strs.sort(key = lambda item: sorted(list(item)))\n",
    "print(strs)"
   ]
  },
  {
   "cell_type": "markdown",
   "id": "b10202dd-ef8f-4704-b8d4-92c239344738",
   "metadata": {},
   "source": [
    "\n",
    "### More reference stuff\n",
    "\n",
    "#### Documentation Strings\n",
    "\n",
    "Please check [here](https://docs.python.org/3/tutorial/controlflow.html#documentation-strings)\n",
    "\n",
    "#### Function Annotations\n",
    "\n",
    "Please check [here](https://docs.python.org/3/tutorial/controlflow.html#function-annotations)  \n",
    "Example:\n",
    "```python\n",
    "def fib(n : int | float = 10) -> list[int]:  # return Fibonacci series up to n\n",
    "    \"\"\"Return a list containing the Fibonacci series up to n.\"\"\"\n",
    "    result = []\n",
    "    a, b = 0, 1\n",
    "    while a < n:\n",
    "        result.append(a)    # see below\n",
    "        a, b = b, a+b\n",
    "    return result\n",
    "```\n",
    "\n",
    "#### Intermezzo: Coding Style\n",
    "\n",
    "For Python, [PEP 8](https://peps.python.org/pep-0008/) has emerged as the style guide that most projects adhere to, here are the most important points extracted:\n",
    "- Use 4-space indentation, and no tabs.\n",
    "- Wrap lines so that they don’t exceed 79 characters.\n",
    "- Use blank lines to separate functions and classes, and larger blocks of code inside functions.\n",
    "- When possible, put comments on a line of their own.\n",
    "- Use docstrings.\n",
    "- Use spaces around operators and after commas, but not directly inside bracketing constructs.\n",
    "- Name your classes and functions consistently; the convention is to use `UpperCamelCase` for classes and `lowercase_with_underscores` for functions and methods. Always use `self` as the name for the first method argument.\n",
    "- Don’t use fancy encodings if your code is meant to be used in international environments. Python’s default, UTF-8, or even plain ASCII work best in any case.\n",
    "- Likewise, don’t use non-ASCII characters in identifiers if there is only the slightest chance people speaking a different language will read or maintain the code.\n",
    "\n",
    "\n"
   ]
  },
  {
   "cell_type": "code",
   "execution_count": null,
   "id": "fd7d00d6-ba40-4471-a51c-4a537d1f419a",
   "metadata": {},
   "outputs": [],
   "source": []
  }
 ],
 "metadata": {
  "kernelspec": {
   "display_name": "Python 3",
   "language": "python",
   "name": "python3"
  },
  "language_info": {
   "codemirror_mode": {
    "name": "ipython",
    "version": 3
   },
   "file_extension": ".py",
   "mimetype": "text/x-python",
   "name": "python",
   "nbconvert_exporter": "python",
   "pygments_lexer": "ipython3",
   "version": "3.12.2"
  }
 },
 "nbformat": 4,
 "nbformat_minor": 5
}
