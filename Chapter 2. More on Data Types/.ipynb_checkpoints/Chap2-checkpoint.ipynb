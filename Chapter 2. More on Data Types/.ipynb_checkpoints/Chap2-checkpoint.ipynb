{
 "cells": [
  {
   "cell_type": "markdown",
   "id": "90903b03-8003-4179-a65f-1273a6deeab0",
   "metadata": {},
   "source": [
    "# Python\n",
    "\n",
    "References:\n",
    "- [docs.python.org](https://docs.python.org/3/)\n",
    "- [realpython.com](https://realpython.com/)\n",
    "- [www.w3schools.com](https://www.w3schools.com/python/)\n",
    "\n",
    "## Chap 2. More on data types.\n",
    "\n",
    "**Review**:\n",
    "- Object of a data types can create by literals or by constructor.\n",
    "\n",
    "### Numbers\n",
    "\n",
    "#### Numbers constructors\n",
    "\n",
    "(this define as builtin function)\n",
    "- Integer: `int(number=0, /)`, `int(string, /, base=10)`. More detail [here](https://docs.python.org/3/library/functions.html#int)\n",
    "- Boolean: `bool(object=False, /)`. More detail [here](https://docs.python.org/3/library/functions.html#bool)\n",
    "- Float: `float(number=0.0, /)`, `float(string, /)`. More detail [here](https://docs.python.org/3/library/functions.html#float)\n",
    "- Complex: `complex(number=0, /)`, `complex(string, /)`, `complex(real=0, imag=0)`. More detail [here](https://docs.python.org/3/library/functions.html#complex).\n"
   ]
  },
  {
   "cell_type": "code",
   "execution_count": null,
   "id": "925c1133-33bc-4847-906b-fc35104a5cf5",
   "metadata": {},
   "outputs": [],
   "source": [
    "%reset -f\n",
    "# Example use of constructor\n",
    "i = int(\"1001\", 2) # same as `i = 0b1001`\n",
    "f = float(\"1.234\")\n",
    "b = bool(i)\n",
    "c = complex(18, 20)\n",
    "print(f\"{i = }\")\n",
    "print(f\"{f = }\")\n",
    "print(f\"{b = }\")\n",
    "print(f\"{c = }\")\n"
   ]
  },
  {
   "cell_type": "markdown",
   "id": "47a988a0-39e1-4c95-8aa7-881af190d340",
   "metadata": {},
   "source": [
    "#### Some method and attribute on numbers\n",
    "\n",
    "- `complex.imag`\n",
    "- `complex.real`\n",
    "- `int.bit_length()`\n",
    "- `int.bit_count()`\n",
    "- `int.to_bytes(length=1, byteorder='big', *, signed=False)`\n",
    "- `classmethod int.from_bytes(bytes, byteorder='big', *, signed=False)`\n",
    "\n",
    "> **Note**:\n",
    "> - To check more method and attribute of object. Use `dir()` function.\n",
    "> - See more about these types [here](https://docs.python.org/3/library/stdtypes.html#typesnumeric)"
   ]
  },
  {
   "cell_type": "code",
   "execution_count": null,
   "id": "49e27d3e-ae56-40dd-8478-e8b775f45c18",
   "metadata": {},
   "outputs": [],
   "source": [
    "%reset -f\n",
    "# Example\n",
    "z = 10 - 20j\n",
    "print(f\"{z.real = }, {z.imag = }\")\n",
    "\n",
    "print(f\"{(0b10001).bit_count()  = }\")\n",
    "print(f\"{(0b10001).bit_length() = }\")\n",
    "\n",
    "b = b\"\\xff\\x00\"\n",
    "print(f\"{int.from_bytes(b, signed=True) = }\")\n",
    "print(f\"{(255).to_bytes(2, \"little\")    = }\")"
   ]
  },
  {
   "cell_type": "markdown",
   "id": "46131f32-d0cd-4db0-bd2a-57012a368bf7",
   "metadata": {},
   "source": [
    "\n",
    "### String\n",
    "\n",
    "#### String constructor\n",
    "\n",
    "`class str(object='')`  \n",
    "`class str(object=b'', encoding='utf-8', errors='strict')`\n",
    "\n",
    "> To convert object to string, `str()` will involk method `obj.__str__()` of `obj` which return string prestation of `obj`. (Like in java, we have `toString()` method.\n"
   ]
  },
  {
   "cell_type": "code",
   "execution_count": null,
   "id": "f6bcaaed-4cea-42e6-bb77-2e3bff63045e",
   "metadata": {},
   "outputs": [],
   "source": [
    "%reset -f\n",
    "# Example\n",
    "print(f\"{str(b'\\x65') = }\")\n",
    "print(f\"{str(b'\\x65', 'utf-8') = }\")"
   ]
  },
  {
   "cell_type": "markdown",
   "id": "9e85faa0-16fd-480e-9e15-2a296482c62a",
   "metadata": {},
   "source": [
    "\n",
    "#### Some useful String Method\n",
    "\n",
    "`str.encode(encoding='utf-8', errors='strict')`  \n",
    "`str.split(sep=None, maxsplit=-1)`  \n",
    "`str.strip([chars])`  \n",
    "`str.zfill(width)`  \n",
    "`str.lower()`  \n",
    "`str.find(sub[, start[, end]])`  \n",
    "`str.upper()`  \n",
    "`str.join(iterable)`\n",
    "\n",
    "See more string's method [here](https://docs.python.org/3/library/stdtypes.html#string-methods)"
   ]
  },
  {
   "cell_type": "code",
   "execution_count": null,
   "id": "aa3bf451-f780-46cf-bdeb-9a3ba1477477",
   "metadata": {},
   "outputs": [],
   "source": [
    "%reset -f\n",
    "# Example\n",
    "s = \" Hello World \"\n",
    "\n",
    "print(f\"{s.encode() = }\")\n",
    "print(f\"{s.split() = }\")\n",
    "print(f\"{s.strip() = }\")\n",
    "print(f\"{s.zfill(20) = }\")\n",
    "print(f\"{s.lower() = }\")\n",
    "print(f\"{s.upper() = }\")\n",
    "print(f\"{s.find(\"World\") = }\")\n",
    "print(f\"{\", \".join(s) = }\")"
   ]
  },
  {
   "cell_type": "markdown",
   "id": "760b5575-da17-46fe-8ec4-1a2df3ed8291",
   "metadata": {},
   "source": [
    "#### Indexing and Slicing\n",
    "\n",
    "Give string: `s = \"Python\"`\n",
    "\n",
    "```python\n",
    " +---+---+---+---+---+---+---+\n",
    " | P | y | t | h | o | n |\n",
    " +---+---+---+---+---+---+---+\n",
    "   0   1   2   3   4   5   6\n",
    "  -6  -5  -4  -3  -2  -1\n",
    "```\n",
    "\n",
    "**Indexing**:  \n",
    "- Get element has index i: `s[i]`. If index out of range, exception will be raised. Example: `s[5]`, `s[-1]`.\n",
    "- Because string is immutable object, so this statement is wrong `s[-1] = 'N'`  \n",
    "\n",
    "\n",
    "**Slicing**:  \n",
    "- Get a substring from index i to before index j: `s[i: j]`. Example: `s[0: 1]`.\n",
    "- Get a substring with step k: `s[i: j: k]`\n",
    "- k default by 1.\n",
    "- if (i - j)*k > 0, slice string will be empty.  \n",
    "```python\n",
    "       i                       j     (k > 0)\n",
    " +---+---+---+---+---+---+---+---+------------\n",
    " |   | P | y | t | h | o | n |   |\n",
    " +---+---+---+---+---+---+---+---+------------\n",
    "   j                       i         (k < 0)\n",
    "```\n",
    "\n",
    "> **Tips**:\n",
    "> - To get reversed string use `s[::-1]`\n",
    " "
   ]
  },
  {
   "cell_type": "code",
   "execution_count": null,
   "id": "78794a4a-bba6-423b-8ffc-91cc7a509855",
   "metadata": {},
   "outputs": [],
   "source": [
    "%reset -f\n",
    "# Example\n",
    "\n",
    "s = \"Python\"\n",
    "print(f\"{s[ 0] = }\")\n",
    "print(f\"{s[-1] = }\")\n",
    "\n",
    "print(f\"{s[:]    = }\")\n",
    "print(f\"{s[::-1] = }\")\n",
    "print(f\"{s[:5:4] = }\")\n",
    "print(f\"{s[:0:-4]= }\")"
   ]
  },
  {
   "cell_type": "markdown",
   "id": "13cc706c-21c8-4ccc-9cc6-ba49e764ba77",
   "metadata": {},
   "source": [
    "\n",
    "#### Operations on string\n",
    "\n",
    "Get string len: `len(s)`  \n",
    "Concatenate:\n",
    "- use operator `+`: `s1 + s2`\n",
    "- concatenate two string literals: `\"Hello\" \"World\"`\n",
    "\n",
    "Multiple string with operator `*`.  \n",
    "Check substring in string with `in` and `not in`.\n"
   ]
  },
  {
   "cell_type": "code",
   "execution_count": null,
   "id": "8ab852e9-50ca-49a4-b44c-920a5d2bccf1",
   "metadata": {},
   "outputs": [],
   "source": [
    "%reset -f\n",
    "# Example\n",
    "s1 = \"Hi\"\n",
    "s2 = \"!\"\n",
    "\n",
    "print(f\"{s1*3 + s2*2 = }\")\n",
    "print(\"Hello \"\n",
    "      \"World!\")\n",
    "print(\"How\" in \"How are you\")"
   ]
  },
  {
   "cell_type": "markdown",
   "id": "04242e92-323a-4211-af43-589c800ea0ac",
   "metadata": {},
   "source": [
    "\n",
    "#### Format String\n",
    "\n",
    "There are several way to print a formatted string:\n",
    "- Operater `%` (detail [here](https://docs.python.org/3/library/stdtypes.html#old-string-formatting))\n",
    "- `str.format()` method (detail [here](https://docs.python.org/3/library/string.html#formatstrings))\n",
    "- f-string (detail [here](https://docs.python.org/3/reference/lexical_analysis.html#f-strings))\n"
   ]
  },
  {
   "cell_type": "code",
   "execution_count": null,
   "id": "b614b00f-6742-498a-93ff-4bebe564ee0f",
   "metadata": {},
   "outputs": [],
   "source": [
    "%reset -f\n",
    "# Example\n",
    "\n",
    "# str.format()\n",
    "print(\"{} {} {} {three} {four} {three}\".format(\"rei\", \"ichi\", \"ni\", three = \"san\", four = \"yon\"))\n",
    "print(\"{0} {1} {0} {three} {2} {four}\".format(\"rei\", \"ichi\", \"ni\", three = \"san\", four = \"yon\"))\n",
    "\n",
    "# % operator\n",
    "print('%s has %d quote types.' % ('Python', 2))\n",
    "print('%(language)s has %(number)03d quote types.' % {'language': \"Python\", \"number\": 2})\n",
    "\n",
    "# f-string\n",
    "number = 1024\n",
    "print(f\"{number = :#0x}\")\n",
    "print(f\"{number = :#0b}\")"
   ]
  },
  {
   "cell_type": "markdown",
   "id": "a76631b7-d5f6-4005-9c5b-3f21a0336087",
   "metadata": {},
   "source": [
    "\n",
    "### Lists\n",
    "\n",
    "#### List constructor\n",
    "\n",
    "`class list([iterable])`\n"
   ]
  },
  {
   "cell_type": "code",
   "execution_count": null,
   "id": "c1fdcec6-196a-4477-b81b-aa529bde0290",
   "metadata": {},
   "outputs": [],
   "source": [
    "%reset -f\n",
    "# Example: create lists\n",
    "\n",
    "l1 = [1, 2, 3, 4]\n",
    "l2 = list(\"abcd\")\n",
    "\n",
    "print(f\"{l1 = }\")\n",
    "print(f\"{l2 = }\")\n",
    "\n",
    "print(f\"Empty list {list()}\")"
   ]
  },
  {
   "cell_type": "markdown",
   "id": "08b934df-d8fc-40bb-822f-5dfee143588c",
   "metadata": {},
   "source": [
    "\n",
    "#### List Indexing and Slicing\n",
    "\n",
    "- List indexing and slicing like string (they are sequence types).\n",
    "- List is multable, so we can change list element value like `l[i] = val` or `l[i: j] = iterable`.\n",
    "\n",
    "#### List method\n",
    "\n",
    "There are some popular list method:\n",
    "- `list.append(x)`\n",
    "- `list.extend(iterable)`\n",
    "- `list.insert(i, x)`\n",
    "- `list.remove(x)`\n",
    "- `list.pop([i])`\n",
    "- `list.clear()`\n",
    "- `list.index(x[, start[, end]])`\n",
    "- `list.count(x)`\n",
    "- `list.sort(*, key=None, reverse=False)`\n",
    "- `list.reverse()`\n",
    "- `list.copy()`\n",
    "\n",
    "> **Other way to insert to a list**:\n",
    "> - `a[len(a):] = iterable`\n",
    "> - `a[len(a):] = [x]`\n",
    "> "
   ]
  },
  {
   "cell_type": "code",
   "execution_count": null,
   "id": "7e01683d-3672-40a4-ae11-8fbb032df697",
   "metadata": {},
   "outputs": [],
   "source": [
    "%reset -f\n",
    "# Example\n",
    "fruits = ['orange', 'apple', 'pear', 'banana', 'kiwi', 'apple', 'banana']\n",
    "print(f\"{fruits = }\")\n",
    "print(f\"{fruits.count('apple') = }\")\n",
    "print(f\"{fruits.index('banana') = }\") # Raise exception if not found\n",
    "\n",
    "fruits.reverse()\n",
    "print(f\"{fruits = }\")\n",
    "\n",
    "fruits.append('grape')\n",
    "fruits.sort()\n",
    "print(f\"{fruits = }\")\n",
    "\n",
    "print(f\"{fruits.pop() = }\")"
   ]
  },
  {
   "cell_type": "markdown",
   "id": "ecc0a176-965f-4934-a7e4-9ccdc11bb86d",
   "metadata": {},
   "source": [
    "\n",
    "#### Operations on list\n",
    "\n",
    "- Get list len: `len(l)`  \n",
    "- Concatenate use operator `+`: `l1 + l2`\n",
    "- Multiple list with operator `*`.  \n",
    "- Check element in list with `in` and `not in`.\n",
    "- Remove element in list with `del`\n"
   ]
  },
  {
   "cell_type": "code",
   "execution_count": null,
   "id": "e0fb494c-0fa9-448b-b5de-74db2959b457",
   "metadata": {},
   "outputs": [],
   "source": [
    "%reset -f\n",
    "# Example\n",
    "\n",
    "l_int = [1, 2, 3]\n",
    "l_str = ['a', 'b', 'c']\n",
    "\n",
    "l = 2*l_int + l_str\n",
    "print(f\"{l = }, {len(l) = }\")\n",
    "print(f\"{2 in l = }\")\n",
    "\n",
    "del l[:3]\n",
    "print(f\"{l = }\")"
   ]
  },
  {
   "cell_type": "markdown",
   "id": "56f0fbec-0ea1-4662-ac00-e5b0a1b3e342",
   "metadata": {},
   "source": [
    "\n",
    "#### Copy a list\n",
    "\n",
    "Consider example:"
   ]
  },
  {
   "cell_type": "code",
   "execution_count": null,
   "id": "356b2eed-030a-4157-90d4-1f639b64f5bf",
   "metadata": {},
   "outputs": [],
   "source": [
    "%reset -f\n",
    "# Example\n",
    "lists = [[]] * 3\n",
    "print(f\"{lists = }\") \n",
    "\n",
    "lists[0].append(3)\n",
    "print(f\"{lists = }\") \n"
   ]
  },
  {
   "cell_type": "markdown",
   "id": "72b64ab9-fdba-49e2-bead-7e6c85d6598d",
   "metadata": {},
   "source": [
    "Some way to copy a list:\n",
    "- `l.copy()`.\n",
    "- `copy.copy()` in `copy` module.\n",
    "- `l[:]`\n",
    "- `list(l)`\n",
    "\n",
    "These above copy return a **shallow copy** of a list. There also have **deep copy**, but we consider later.\n"
   ]
  },
  {
   "cell_type": "code",
   "execution_count": null,
   "id": "a243c51f-99b4-4be2-a4be-ce656b89978b",
   "metadata": {},
   "outputs": [],
   "source": [
    "%reset -f\n",
    "# Example\n",
    "\n",
    "l1 = [1, 2, 3]\n",
    "l2 = [2, 3, 4]\n",
    "l3 = [3, 4, 5]\n",
    "lx = [l1, l2, l3]\n",
    "ly = lx[:]\n",
    "\n",
    "del lx[-1]\n",
    "print(f\"{lx = }\")\n",
    "print(f\"{ly = }\")\n",
    "\n",
    "ly[-1][-1] = 100\n",
    "ly[ 0][-1] = 100\n",
    "print(f\"{lx = }\")\n",
    "print(f\"{ly = }\")"
   ]
  },
  {
   "cell_type": "markdown",
   "id": "f7552805-b366-401c-8583-6e02b89180f4",
   "metadata": {},
   "source": [
    "\n",
    "#### List Comprehensions\n",
    "\n",
    "(Learn later)\n",
    "\n",
    "### Tuple\n",
    "\n",
    "Tuple is like list but it's immutable.\n",
    "\n",
    "#### Create Tuple\n",
    "\n",
    "- By constructor: `tuple([iterable])`\n",
    "- By literals: `t = 1,`\n"
   ]
  },
  {
   "cell_type": "code",
   "execution_count": null,
   "id": "3a1f17f0-8145-4cdd-872c-a6c061d6e91d",
   "metadata": {},
   "outputs": [],
   "source": [
    "%reset -f\n",
    "# Example\n",
    "\n",
    "t1 = tuple(\"abc\")\n",
    "t2 = (1, 2, 3)\n",
    "t3 = [1, 2],\n",
    "\n",
    "print(f\"{t1 = }\")\n",
    "print(f\"{t2 = }\")\n",
    "print(f\"{t3 = }\")\n"
   ]
  },
  {
   "cell_type": "markdown",
   "id": "34bef501-b06f-48c1-ab1a-a62ee228ff3e",
   "metadata": {},
   "source": [
    "#### Tuple Method\n",
    "\n",
    "`tuple.index()`\n",
    "`tuple.count()`\n",
    "\n",
    "#### Tuple indexing and slicing\n",
    "\n",
    "- Tuple indexing and slicing like list.\n",
    "- Tuple is immultable, so we cannot change tuple element value like `t[i] = val` or `t[i: j] = iterable`.\n",
    "\n",
    "#### Operations on tuple\n",
    "\n",
    "- Get tuple len: `len(t)`  \n",
    "- Concatenate use operator `+`: `t1 + t2`\n",
    "- Multiple tuple with operator `*`.  \n",
    "- Check element in tuple with `in` and `not in`.\n",
    "\n",
    "### Set and Frozenset\n",
    "\n",
    "#### Construct\n",
    "\n",
    "- `set([iterable])`\n",
    "- `frozenset([iterable])`\n",
    "\n",
    "> Frozenset is set with immutable property.\n"
   ]
  },
  {
   "cell_type": "code",
   "execution_count": null,
   "id": "938a18a3-439d-4c60-aa55-898cefc7b674",
   "metadata": {},
   "outputs": [],
   "source": [
    "%reset -f\n",
    "# Example\n",
    "\n",
    "basket = {'apple', 'orange', 'apple', 'pear', 'orange', 'banana'}\n",
    "print(basket)\n",
    "\n",
    "a = set('abracadabra')\n",
    "b = set('alacazam')\n",
    "\n",
    "print(f\"{a = }\")\n",
    "print(f\"{b = }\")\n"
   ]
  },
  {
   "cell_type": "markdown",
   "id": "41674c27-cb46-41cb-a75d-13fde97c7fdd",
   "metadata": {},
   "source": [
    "#### Method\n",
    "\n",
    "- `set.isdisjoint(other)`\n",
    "- `set.issubset(other)`\n",
    "- `set.issuperset(other)`\n",
    "- `set.union(*others)`\n",
    "- `set.intersection(*others)`\n",
    "- `set.difference(*others)`\n",
    "- `set.symmetric_difference(other)`\n",
    "- `set.copy()`\n",
    "- `set.update(*others)`\n",
    "- `set.intersection_update(*others)`\n",
    "- `set.difference_update(*others)`\n",
    "- `set.symmetric_difference_update(other)`\n",
    "- `set.add(elem)`\n",
    "- `set.remove(elem)`\n",
    "- `set.discard(elem)`\n",
    "- `set.pop()`\n",
    "- `set.clear()`\n",
    "\n",
    "#### Operators\n",
    "\n",
    "- Get len of set: `len(s)`\n",
    "- Check subset and superset: `<=`, `<`, `>=`, `>`\n",
    "- Union, intersetion, difference, symmetric_difference: `|`, `&`, `-`, `^`\n",
    "- Update: `|=`, `&=`, `-=`, `^=`"
   ]
  },
  {
   "cell_type": "code",
   "execution_count": null,
   "id": "22779e27-c5a4-4a10-8149-2457f0432fca",
   "metadata": {},
   "outputs": [],
   "source": [
    "print(f\"{a = }\")\n",
    "print(f\"{b = }\")\n",
    "\n",
    "u = a | b\n",
    "i = a & b\n",
    "d = a - b\n",
    "x = a ^ b\n",
    "print(f\"{u = }\")\n",
    "print(f\"{i = }\")\n",
    "print(f\"{d = }\")\n",
    "print(f\"{x = }\")\n",
    "\n",
    "print(f\"{x < u = }\")"
   ]
  },
  {
   "cell_type": "markdown",
   "id": "13fee896-7cfa-4438-8d24-8c29f09725fa",
   "metadata": {},
   "source": [
    "\n",
    "#### Set Somprehension\n",
    "\n",
    "(Learn later)\n",
    "\n",
    "### Dictionary\n",
    "\n",
    "#### Create Dictionary\n",
    "\n",
    "**Constructor**:\n",
    "- `dict(**kwargs)`\n",
    "- `dict(mapping, **kwargs)`\n",
    "- `dict(iterable, **kwargs)`\n"
   ]
  },
  {
   "cell_type": "code",
   "execution_count": null,
   "id": "4580cbb0-d822-4aac-b4c4-1a9400c1406d",
   "metadata": {},
   "outputs": [],
   "source": [
    "%reset -f\n",
    "# Example\n",
    "a = dict(one=1, two=2, three=3)\n",
    "b = {'one': 1, 'two': 2, 'three': 3}\n",
    "c = dict(zip(['one', 'two', 'three'], [1, 2, 3]))\n",
    "d = dict([('two', 2), ('one', 1), ('three', 3)])\n",
    "e = dict({'three': 3, 'one': 1, 'two': 2})\n",
    "f = dict({'one': 1, 'three': 3}, two=2)\n",
    "\n",
    "print(a)\n",
    "print(a == b == c == d == e == f)"
   ]
  },
  {
   "cell_type": "markdown",
   "id": "164fc39f-3727-4e03-ae6e-5a77d2999df3",
   "metadata": {},
   "source": [
    "\n",
    "#### Dictionary operations\n",
    "\n",
    "- `list(d)`\n",
    "- `len(d)`\n",
    "- `d[key]`\n",
    "- `d[key] = value`\n",
    "- `del d[key]`\n",
    "- `key in d`\n",
    "- `key not in d`\n",
    "- `d | other`\n",
    "- `d |= other`\n",
    "\n",
    "> **More**:\n",
    "> - To get dictionary keys: `list(d.keys())`\n",
    "> - To get dictionary values: `list(d.values())`\n",
    "> - To get dictionary items: `list(d.items())`\n",
    ">\n",
    "> For more about dictionary see [here](https://docs.python.org/3/library/stdtypes.html#typesmapping).\n",
    "> "
   ]
  },
  {
   "cell_type": "code",
   "execution_count": null,
   "id": "55fc8a73-0134-49c7-bea2-3615bab9c739",
   "metadata": {},
   "outputs": [],
   "source": [
    "# Example\n",
    "\n",
    "print(f\"{a = }\")\n",
    "a[\"four\"] = 4\n",
    "del a[\"one\"]\n",
    "a |= {\"ten\": 10, \"nine\": 9}\n",
    "print(f\"{a = }\")\n"
   ]
  },
  {
   "cell_type": "markdown",
   "id": "1c4e5faa-cdf1-4272-a3e0-d52c0298982e",
   "metadata": {},
   "source": [
    "#### Dict Comprehensions\n",
    "\n",
    "Learn later.\n",
    "\n",
    "### Range\n",
    "\n",
    "\n",
    "The advantage of the range type over a regular list or tuple is that a range object will always take the same (small) amount of memory, no matter the size of the range it represents (as it only stores the start, stop and step values, calculating individual items and subranges as needed).\n",
    "\n",
    "**Create range**:\n",
    "- `range(stop)`  \n",
    "- `range(start, stop[, step])`\n",
    "\n",
    "**Operation on range**:\n",
    "- Slicing\n",
    "- Indexing\n",
    "- Member test"
   ]
  },
  {
   "cell_type": "code",
   "execution_count": null,
   "id": "64c32229-88e1-4222-aefe-3933e63a7020",
   "metadata": {},
   "outputs": [],
   "source": [
    "%reset -f\n",
    "# Example\n",
    "r = range(0, 30, 5)\n",
    "\n",
    "print(f\"{r = }\")\n",
    "print(f\"{1 in r = }\")\n",
    "print(f\"{5 in r = }\")\n",
    "print(f\"{r[4] = }\")\n",
    "print(f\"{r[1: 4] = }\")\n",
    "print(f\"{list(r) = }\")\n"
   ]
  },
  {
   "cell_type": "markdown",
   "id": "4621e432-f42c-4a3f-9c32-5283747e44f8",
   "metadata": {},
   "source": [
    "\n",
    "### Sequence types\n",
    "\n",
    "#### Sequences packing and unpacking\n",
    "\n",
    "Packing:\n",
    "- Tuple packing: `t = 1, 2, 3`\n",
    "\n",
    "Unpacking:\n",
    "- Tuple unpacking: `a, b, c = t`\n",
    "- List unpacking: `a, b, c = l`\n",
    "- Unpacking with starred expression: `a, *b = t`\n",
    "\n",
    "> Note that multiple assignment is really just a combination of tuple packing and sequence unpacking. "
   ]
  },
  {
   "cell_type": "code",
   "execution_count": null,
   "id": "1948d481-81a2-4346-ba47-37ea13807e93",
   "metadata": {},
   "outputs": [],
   "source": [
    "%reset -f\n",
    "# Example\n",
    "\n",
    "t = 1, 2, 3, 4, 5 # tuple packing\n",
    "print(f\"{t = }\")"
   ]
  },
  {
   "cell_type": "code",
   "execution_count": null,
   "id": "f082c3e7-c28a-4328-8d43-b9d48fc5e69f",
   "metadata": {},
   "outputs": [],
   "source": [
    "a, *b, c = t # tuple unpacking\n",
    "print(f\"{a = }, {b = }, {c = }\")"
   ]
  },
  {
   "cell_type": "code",
   "execution_count": null,
   "id": "941cc329-e8be-4e13-9917-8c00838f4887",
   "metadata": {},
   "outputs": [],
   "source": [
    "x, y, z = b # list unpacking\n",
    "print(f\"{x = }, {y = }, {z = }\")"
   ]
  },
  {
   "cell_type": "markdown",
   "id": "06476269-7b83-44bc-8f92-8ae939329335",
   "metadata": {},
   "source": [
    "\n",
    "#### Comparision in sequence types.\n",
    "\n",
    "- Ordered sequence types: list, str, tuple, range.\n",
    "- The comparison uses lexicographical ordering.\n",
    "\n",
    "Example:\n",
    "```\n",
    "(1, 2, 3)              < (1, 2, 4)\r\n",
    "[1, 2, 3]              < [1, 2, 4]\r\n",
    "'ABC' < 'C' < 'Pascal' < 'Python'\r\n",
    "(1, 2, 3, 4)           < (1, 2, 4)\r\n",
    "(1, 2)                 < (1, 2, -1)\r\n",
    "(1, 2, 3)             == (1.0, 2.0, 3.0)\r\n",
    "(1, 2, ('aa', 'ab'))   < (1, 2, ('abc', 'a'), 4)\n",
    "```"
   ]
  }
 ],
 "metadata": {
  "kernelspec": {
   "display_name": "Python 3 (ipykernel)",
   "language": "python",
   "name": "python3"
  },
  "language_info": {
   "codemirror_mode": {
    "name": "ipython",
    "version": 3
   },
   "file_extension": ".py",
   "mimetype": "text/x-python",
   "name": "python",
   "nbconvert_exporter": "python",
   "pygments_lexer": "ipython3",
   "version": "3.12.4"
  }
 },
 "nbformat": 4,
 "nbformat_minor": 5
}
