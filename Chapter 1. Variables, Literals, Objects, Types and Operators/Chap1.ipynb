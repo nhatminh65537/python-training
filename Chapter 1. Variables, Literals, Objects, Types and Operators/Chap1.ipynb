{
 "cells": [
  {
   "cell_type": "markdown",
   "id": "af4b0b21-d6e7-4e6e-b1c1-66ddb8977482",
   "metadata": {
    "panel-layout": {
     "height": -10,
     "visible": true,
     "width": 100
    }
   },
   "source": [
    "# Python\n",
    "\n",
    "References:\n",
    "- [docs.python.org](https://docs.python.org/3/)\n",
    "- [realpython.com](https://realpython.com/)\n",
    "- [www.w3schools.com](https://www.w3schools.com/python/)\n",
    "\n",
    "## Chapter 1. Variables, Literals, Objects, Types and Operators.\n",
    "\n",
    "### Variables\n",
    "\n",
    "**Notes**:\n",
    "1. Python has no command for declaring a variable.\n",
    "2. Python variables has no type belong.\n",
    "3. Define a variables: `<var> = <value>`\n"
   ]
  },
  {
   "cell_type": "code",
   "execution_count": 3,
   "id": "d1b08889-0bbb-422b-ba4f-2727bf17a8f3",
   "metadata": {},
   "outputs": [
    {
     "name": "stdout",
     "output_type": "stream",
     "text": [
      "var   =  1337\n",
      "var   =  Hello\n",
      "a b c =  1 2 3\n",
      "x y z =  Hi Hi Hi\n"
     ]
    }
   ],
   "source": [
    "%reset -f\n",
    "# Example\n",
    "var = 1337\n",
    "print(\"var   = \", var)\n",
    "var = \"Hello\"\n",
    "print(\"var   = \", var)\n",
    "\n",
    "# More example\n",
    "a, b, c = 1, 2, 3 # more detail this will be later\n",
    "print(\"a b c = \", a, b, c)\n",
    "x = y = z = \"Hi\" # more detail this will be later\n",
    "print(\"x y z = \", x, y, z)"
   ]
  },
  {
   "cell_type": "markdown",
   "id": "24dbf07a-6c0f-4045-affd-b1ec4d74d347",
   "metadata": {
    "panel-layout": {
     "height": -10,
     "visible": true,
     "width": 100
    }
   },
   "source": [
    "> **Note: Comment in Python**  \n",
    "> In python, we to can use `# comment` for comment in one line or `\"\"\" comment \"\"\"` for multiple line. Example:\n",
    "> ```python\n",
    "> # This is comment\n",
    "> x = 1 # comment after statements\n",
    "> \"\"\"\n",
    "> Multiline\n",
    "> Comment\n",
    "> \"\"\"\n",
    "> ```\n",
    "\n",
    "> **Note: about Constants**  \n",
    "> In python, we don't have constant variables. So, we cannot define it.\n",
    ">\n",
    "\n",
    "### Literals\n",
    "\n",
    "See more about Python's literals [here](https://docs.python.org/3/reference/lexical_analysis.html#literals)\n",
    "\n",
    "Literals are notations for constant values of some built-in types. Example: `x = 10`  \n",
    "Some literals in python:\n",
    "- String: `\"this is string\"`, `'this is string'`\n",
    "- Multiline string: `\"\"\"string\"\"\"`, `'''string'''`\n",
    "- Raw string: `r\"string\"`, `R\"string\"`, `r'string'`, `R'string'`, ...\n",
    "- Formatted string (like string with `'f'` or `'F'` in prefix): `f'string'`, ...\n",
    "- Bytes (like string with `'b'` or `'B'` in prefix): `b'bytes'`, ...\n",
    "- Raw bytes (like string with `'rb'` or ... in prefix): `rb'bytes'`, ...\n",
    "\n",
    "> **Note: Escape Sequences**  \n",
    "> Escape sequences in python is similar to in C. Raw string or bytes will ignore all escape sequences in the literal. Some popular escape sequences: `'\\n'`, `'\\r'`, `'\\xhh'`, ...  \n",
    "> See more detail in [here](https://en.wikipedia.org/wiki/Escape_sequences_in_C#Escape_sequences)\n",
    ">\n",
    "\n",
    "> **Note: Prefix**  \n",
    "> Bytes and string prefix can join with `'''`, `\"\"\"`, `\"`, `'` to make more literals syntax. Example, multiline raw bytes: `rb'''bytes'''`\n",
    "> "
   ]
  },
  {
   "cell_type": "code",
   "execution_count": 4,
   "id": "aa714709-4d21-47df-83d5-e157a5a62570",
   "metadata": {},
   "outputs": [
    {
     "name": "stdout",
     "output_type": "stream",
     "text": [
      "This is 'string'\n",
      "This is 'string'\n",
      "This is \\'raw string\\'\n",
      "\n",
      "Multiple line:\n",
      "- 1st\n",
      "- 2nd\n",
      "\n",
      "Just one line\n",
      "String s1: This is 'string'\n"
     ]
    }
   ],
   "source": [
    "%reset -f\n",
    "# Example string\n",
    "s1 = \"This is 'string'\"\n",
    "s2 = 'This is \\'string\\''\n",
    "s3 = r'This is \\'raw string\\''\n",
    "s4 = \"\"\"\n",
    "Multiple line:\n",
    "- 1st\n",
    "- 2nd\n",
    "\"\"\"\n",
    "s5 = \"Just one \\\n",
    "line\"\n",
    "print(s1, s2, s3, s4, s5, sep='\\n')\n",
    "# f-string\n",
    "print(f\"String s1: {s1}\")"
   ]
  },
  {
   "cell_type": "code",
   "execution_count": 5,
   "id": "ce9638f0-1c2b-4998-b851-4d95d4bfd503",
   "metadata": {},
   "outputs": [
    {
     "name": "stdout",
     "output_type": "stream",
     "text": [
      "Bytes    :  b'\\xfe\\xf1\\x12E\\x81e'\n",
      "Raw bytes:  b'\\\\xfe\\\\xf1\\\\x12\\\\x45\\\\x81\\\\x65'\n"
     ]
    }
   ],
   "source": [
    "%reset -f\n",
    "# Example bytes\n",
    "b1 = b'\\xfe\\xf1\\x12\\x45\\x81\\x65'\n",
    "b2 = rb'\\xfe\\xf1\\x12\\x45\\x81\\x65'\n",
    "print(\"Bytes    : \", b1)\n",
    "print(\"Raw bytes: \", b2)"
   ]
  },
  {
   "cell_type": "code",
   "execution_count": null,
   "id": "dfeb9657-cfe0-494d-99b3-be71baa53da0",
   "metadata": {},
   "outputs": [
    {
     "name": "stdout",
     "output_type": "stream",
     "text": [
      "formatted: val    = 3.1415\n"
     ]
    }
   ],
   "source": [
    "%reset -f\n",
    "# Formatted string\n",
    "val = 3.1415\n",
    "print(f\"formatted: {val = }\")"
   ]
  },
  {
   "cell_type": "markdown",
   "id": "7a00c7fc-489e-4897-88a4-26b40a3c6005",
   "metadata": {
    "panel-layout": {
     "height": -10,
     "visible": true,
     "width": 100
    }
   },
   "source": [
    "- Integer: `101`, `0xAe1`, `0b101`, `0o101`, `1_124_199`\n",
    "- Floating-point: `3.14`, `10.`, `.12E0`, `271e-2`, `3.14_15`\n",
    "- Imaginary: `10.j`, `3.14j`, `1j`, `1E5J`\n",
    "- Tuple: `(1, 2)`\n",
    "- List: `[1, 2]`\n",
    "- Dictionary: `{'key': 'value'}`\n",
    "- Set: `{1, 2, 3}`\n",
    "- Boolean: `True`, `False`\n",
    "- Ellipsis: `...`\n",
    "- Special: `None`\n",
    "\n",
    "### Objects\n",
    "\n",
    "**Objects** are Python’s abstraction for data. All data in a Python program is represented by objects or by relations between objects. Every object has an identity, a type and a value.  \n",
    "\n",
    "- **Mutable objects** is objects whose value can change.\n",
    "- **Immutable objects** is objects whose value is unchangeable once they are created.\n",
    "\n",
    "> **Note**:\n",
    "> - Variables in python just contain a reference to a objects not a objects. Unlike in java, variables can contain both a reference to a objects or a objects.\n",
    "> - We can use `id()` function to get id of an object which identify it with others.\n",
    "> - Objects are never explicitly destroyed; however, when they become unreachable they may be garbage-collected.\n",
    "> - For immutable types, operations that compute new values may actually return a reference to any existing object with the same type and value, while for mutable objects this is not allowed.\n"
   ]
  },
  {
   "cell_type": "code",
   "execution_count": 8,
   "id": "8ba133e5-3a8d-4cbc-bd25-7d5002bfad77",
   "metadata": {
    "panel-layout": {
     "height": -10,
     "visible": true,
     "width": 100
    }
   },
   "outputs": [
    {
     "name": "stdout",
     "output_type": "stream",
     "text": [
      "id(int_x) = 140718617217464\n",
      "id(int_y) = 140718617217464\n",
      "(int_x == int_y) = True\n"
     ]
    }
   ],
   "source": [
    "%reset -f\n",
    "# Example on int object.\n",
    "int_x = 1\n",
    "int_y = 1\n",
    "print(f\"{id(int_x) = }\")\n",
    "print(f\"{id(int_y) = }\")\n",
    "print(f\"{(int_x == int_y) = }\")"
   ]
  },
  {
   "cell_type": "code",
   "execution_count": 9,
   "id": "7e0715ce-bf0b-48bf-a7c5-33aceb905ffd",
   "metadata": {},
   "outputs": [
    {
     "name": "stdout",
     "output_type": "stream",
     "text": [
      "id(float_x) = 2691530008720\n",
      "id(float_y) = 2691530005968\n",
      "(float_x == float_y) = True\n",
      "id(float_y) = 2691531654032\n",
      "id(float_z) = 2691531654032\n"
     ]
    }
   ],
   "source": [
    "%reset -f\n",
    "# Example on float object.\n",
    "float_x = 1.\n",
    "float_y = 1.\n",
    "print(f\"{id(float_x) = }\")\n",
    "print(f\"{id(float_y) = }\")\n",
    "print(f\"{(float_x == float_y) = }\")\n",
    "\n",
    "float_z = float_y = 1.\n",
    "print(f\"{id(float_y) = }\")\n",
    "print(f\"{id(float_z) = }\")"
   ]
  },
  {
   "cell_type": "code",
   "execution_count": 10,
   "id": "e04262ad-bc2e-4a7f-9a98-c07f9bab09f5",
   "metadata": {},
   "outputs": [
    {
     "name": "stdout",
     "output_type": "stream",
     "text": [
      "id(list_x) = 2691530690176\n",
      "id(list_y) = 2691530695552\n",
      "(list_x == list_y) = True\n",
      "id(list_y) = 2691530682816\n",
      "id(list_z) = 2691530682816\n"
     ]
    }
   ],
   "source": [
    "%reset -f\n",
    "# Example on list object\n",
    "list_x = []\n",
    "list_y = []\n",
    "print(f\"{id(list_x) = }\")\n",
    "print(f\"{id(list_y) = }\")\n",
    "print(f\"{(list_x == list_y) = }\")\n",
    "\n",
    "list_z = list_y = []\n",
    "print(f\"{id(list_y) = }\")\n",
    "print(f\"{id(list_z) = }\")"
   ]
  },
  {
   "cell_type": "code",
   "execution_count": 11,
   "id": "e21eb115-e14d-4684-8477-66ea0249322a",
   "metadata": {},
   "outputs": [
    {
     "name": "stdout",
     "output_type": "stream",
     "text": [
      "id(list_y) = 2691530682816\n",
      "list_y = [0]\n",
      "list_z = [0]\n"
     ]
    }
   ],
   "source": [
    "# List is multable\n",
    "list_y.append(0)\n",
    "print(f\"{id(list_y) = }\")\n",
    "print(f\"{list_y = }\")\n",
    "print(f\"{list_z = }\")"
   ]
  },
  {
   "attachments": {},
   "cell_type": "markdown",
   "id": "fdbc9ff3-ad90-4dfb-992b-17f93d186f54",
   "metadata": {},
   "source": [
    "> **Note**:\n",
    "> We cannot not copy a list by assignment like `list_a = list_b`. Some way to copy:\n",
    "> - Loop throw two list and assign each element.\n",
    "> - Use `copy` module.\n",
    "> Detail above will learn later.\n",
    "\n",
    "**Summary about example**  \n",
    "&emsp;![Figure1](Figure1.jpg)\n",
    "\n",
    "### Types\n",
    "\n",
    "Python types tree:\n",
    "- **NoneType**: This type has a single value. There is a single object with this value. This object is accessed through the built-in name `None`. Its truth value is false.\n",
    "- **NotImplementedType**: This type has a single value. There is a single object with this value. This object is accessed through the built-in name `NotImplemented`. It should not be evaluated in a boolean context.\n",
    "- **Ellipsis**: This type has a single value. There is a single object with this value. This object is accessed through the literal `...` or the built-in name `Ellipsis`. Its truth value is true.\n",
    "- **numbers.Number**: These are created by numeric literals. Numeric objects are immutable.\n",
    "  - **numbers.Integral**: These represent elements from the mathematical set of integers (positive and negative).\n",
    "    - **int**: These represent numbers in an unlimited range.\n",
    "    - **bool**: These represent the truth values False and True.\n",
    "  - **float**: These represent machine-level double precision floating-point numbers.\n",
    "  - **complex**: These represent complex numbers as a pair of machine-level double precision floating-point numbers.  \n",
    "- **Sequences**: These represent finite ordered sets indexed by non-negative numbers. Support indexing and slicing.\n",
    "  - **Immutable sequences**: An object of an immutable sequence type cannot change once it is created.\n",
    "    - **str**: A string is a sequence of values that represent Unicode code points.\n",
    "    - **tuple**: The items of a tuple are arbitrary Python objects.\n",
    "    - **bytes**: The items are 8-bit bytes.\n",
    "  - **Mutable sequences**: Mutable sequences can be changed after they are created.\n",
    "    - **list**: The items of a list are arbitrary Python objects.\n",
    "    - **bytearray**: A bytearray object is a mutable array.\n",
    "- **Set types**: These represent unordered, finite sets of unique objects.\n",
    "  - **set**: These represent a mutable set.\n",
    "  - **frozenset**: These represent an immutable set.\n",
    "- **Mappings**: These represent finite sets of objects indexed by arbitrary index sets.\n",
    "  - **dict**: These represent finite sets of objects indexed by nearly arbitrary values.\n",
    "- **Callable types**: These are the types to which the function call operation can be applied.\n",
    "  - **function**: created by a function definition.\n",
    "\n",
    "See more about Python's [the standard type hierarchy](https://docs.python.org/3/reference/datamodel.html#the-standard-type-hierarchy)  \n",
    "See more about Python's [built-in types](https://docs.python.org/3/library/stdtypes.html)"
   ]
  },
  {
   "cell_type": "code",
   "execution_count": 12,
   "id": "07333abf-78c7-4eb5-9b19-7a86b9d1dc35",
   "metadata": {},
   "outputs": [
    {
     "name": "stdout",
     "output_type": "stream",
     "text": [
      "type(None) = <class 'NoneType'>\n",
      "type(NotImplemented) = <class 'NotImplementedType'>\n",
      "type(...) = <class 'ellipsis'>\n"
     ]
    }
   ],
   "source": [
    "%reset -f\n",
    "# Check type of some object\n",
    "print(f\"{type(None) = }\")\n",
    "print(f\"{type(NotImplemented) = }\")\n",
    "print(f\"{type(...) = }\")"
   ]
  },
  {
   "cell_type": "code",
   "execution_count": 13,
   "id": "9ee26808-d455-46bd-aaac-fd01a60ac99e",
   "metadata": {},
   "outputs": [
    {
     "name": "stdout",
     "output_type": "stream",
     "text": [
      "type(1) = <class 'int'>\n",
      "type(True) = <class 'bool'>\n",
      "type(1.) = <class 'float'>\n",
      "type(1j) = <class 'complex'>\n"
     ]
    }
   ],
   "source": [
    "# type of number objects\n",
    "print(f\"{type(1) = }\")\n",
    "print(f\"{type(True) = }\")\n",
    "print(f\"{type(1.) = }\")\n",
    "print(f\"{type(1j) = }\")"
   ]
  },
  {
   "cell_type": "code",
   "execution_count": 14,
   "id": "610e6644-3959-4ccf-830b-bf9c60f4b1dc",
   "metadata": {},
   "outputs": [
    {
     "name": "stdout",
     "output_type": "stream",
     "text": [
      "type(\"Hello\") = <class 'str'>\n",
      "type((1, 2)) = <class 'tuple'>\n",
      "type(b\"Hi\") = <class 'bytes'>\n",
      "type([1, 2]) = <class 'list'>\n",
      "type(bytearray([1, 2])) = <class 'bytearray'>\n"
     ]
    }
   ],
   "source": [
    "# type of sequence objects\n",
    "print(f\"{type(\"Hello\") = }\")\n",
    "print(f\"{type((1, 2)) = }\")\n",
    "print(f\"{type(b\"Hi\") = }\")\n",
    "print(f\"{type([1, 2]) = }\")\n",
    "print(f\"{type(bytearray([1, 2])) = }\") # not have literals"
   ]
  },
  {
   "cell_type": "code",
   "execution_count": 15,
   "id": "1ee62950-befa-40fb-8bf0-39ec177c5ce1",
   "metadata": {},
   "outputs": [
    {
     "name": "stdout",
     "output_type": "stream",
     "text": [
      "type({1, 2}) = <class 'set'>\n",
      "type(frozenset([1, 2])) = <class 'frozenset'>\n"
     ]
    }
   ],
   "source": [
    "# type of set objects\n",
    "print(f\"{type({1, 2}) = }\")\n",
    "print(f\"{type(frozenset([1, 2])) = }\") # not have literals"
   ]
  },
  {
   "cell_type": "code",
   "execution_count": 16,
   "id": "5110fdd1-13af-498c-87c0-051ca7ee0bab",
   "metadata": {},
   "outputs": [
    {
     "name": "stdout",
     "output_type": "stream",
     "text": [
      "type({}) = <class 'dict'>\n",
      "type(f) = <class 'function'>\n",
      "type(print) = <class 'builtin_function_or_method'>\n"
     ]
    }
   ],
   "source": [
    "# type of dictionary objects and some other.\n",
    "def f():\n",
    "    pass\n",
    "print(f\"{type({}) = }\")\n",
    "print(f\"{type(f) = }\")\n",
    "print(f\"{type(print) = }\")"
   ]
  },
  {
   "cell_type": "markdown",
   "id": "9c8b9355-b99d-4566-b87c-68c9f23e612b",
   "metadata": {},
   "source": [
    "> **Note**:  \n",
    "> `{}` literal is a empty dictionary not a empty set. To create empty set use set constructor `set()`.\n",
    "\n",
    "### Operators\n",
    "\n",
    "**Notes**:  \n",
    "1. Python operators work depend on types of operands.\n",
    "2. Python is a strong typed language. So no implicit type conversion in python.\n",
    "\n",
    "#### Operator with number types (int, float, bool, complex)\n",
    "\n",
    "**Arithmetic operators**\n",
    "| Operator | Name | Type of operand |\n",
    "| :---: | :---: | :--: |\n",
    "| `+` | positive | int, float, bool, complex |\n",
    "| `-` | negative | int, float, bool, complex |\n",
    "| `+` | Addition | int, float, bool, complex |\n",
    "| `-` | Subtraction | int, float, bool, complex |\n",
    "| `*` | Multiplication | int, float, bool, complex |\n",
    "| `/` | Division | int, float, bool, complex |\n",
    "| `**` | Exponentiation | int, float, bool, complex |\n",
    "| `//` | Floor division | int, float, bool |\n",
    "| `%` | Modulus | int, float, bool |\n",
    "\n",
    "> **Note**:\n",
    "> - All of above operator except `**` will make expression is valuated from left to right.\n",
    "> - With `**` operator, expression `2**3**0` is equal to `2` not `1`."
   ]
  },
  {
   "cell_type": "code",
   "execution_count": 17,
   "id": "735bb5ba-776a-4d7b-827e-3492e1342a1f",
   "metadata": {},
   "outputs": [
    {
     "name": "stdout",
     "output_type": "stream",
     "text": [
      "12.4 + True = 13.4\n",
      "2j - False = 2j\n",
      "3j / (1 - 2j) = (-1.2+0.6j)\n",
      "-9.8j * False = -0j\n",
      "2j ** 1j = (0.15990905692806806+0.13282699942462053j)\n",
      "3.14 // 1.5 = 2.0\n",
      "3.14 % 2.1 = 1.04\n",
      "2.71 % True = 0.71\n"
     ]
    }
   ],
   "source": [
    "%reset -f\n",
    "# Example\n",
    "\n",
    "print(f\"{12.4 + True = }\")\n",
    "print(f\"{2j - False = }\")\n",
    "print(f\"{3j / (1 - 2j) = }\")\n",
    "print(f\"{-9.8j * False = }\")\n",
    "\n",
    "print(f\"{2j ** 1j = }\")\n",
    "\n",
    "print(f\"{3.14 // 1.5 = }\")\n",
    "print(f\"{3.14 % 2.1 = }\")\n",
    "print(f\"{2.71 % True = }\")"
   ]
  },
  {
   "cell_type": "markdown",
   "id": "866d88e2-4323-4d73-9041-9e675f1e8e19",
   "metadata": {},
   "source": [
    "\n",
    "**Number comparison operators**\n",
    "| Operator | Name | Type of operand |\n",
    "| :---: | :---: | :--: |\n",
    "| `==` | Equal | int, float, bool, complex |\n",
    "| `!=` | Not equal | int, float, bool, complex |\n",
    "| `>` | Greater | int, float, bool |\n",
    "| `<` | Less| int, float, bool |\n",
    "| `>=` | Greater or Equal | int, float, bool |\n",
    "| `<=` | Less or Equal | int, float, bool |\n",
    "\n",
    "> **Note**:\n",
    "> - Number comparison in python has more mathematic significant than some other language. Example, in JS `4 > 3 > 2` = `(4 > 3) > 2` = `True > 2` = `False`. But in python, `4 > 3 > 2` = `True` and `(4 > 3) > 2` = `False`."
   ]
  },
  {
   "cell_type": "code",
   "execution_count": 18,
   "id": "20a9b42f-5dbb-445a-8873-b6c36345ab9a",
   "metadata": {},
   "outputs": [
    {
     "name": "stdout",
     "output_type": "stream",
     "text": [
      "(False == 0. + 0.j) = True\n",
      "(True != 1) = False\n",
      "((True < 2) = True\n",
      "(False > 0) = False\n"
     ]
    }
   ],
   "source": [
    "print(f\"{(False == 0. + 0.j) = }\")\n",
    "print(f\"{(True != 1) = }\")\n",
    "print(f\"({(True < 2) = }\")\n",
    "print(f\"{(False > 0) = }\")"
   ]
  },
  {
   "cell_type": "markdown",
   "id": "c6f4b09d-2877-4729-9f65-335423eb334d",
   "metadata": {},
   "source": [
    "**Bitwise operators**\n",
    "| Operator | Name | Type of operand |\n",
    "| :---: | :---: | :--: |\n",
    "| `&` | and | int, bool |\n",
    "| `\\|` | or | int, bool |\n",
    "| `^` | xor | int, bool |\n",
    "| `~` | not | int, bool |\n",
    "| `<<` | left shift | int, bool |\n",
    "| `>>` | right shift | int, bool |\n",
    "\n",
    "> **Notes**:\n",
    "> 1. Negative shift counts are illegal.\n",
    "> 2. The result of bitwise operations is calculated as though carried out in two’s complement with an infinite number of sign bits.\n"
   ]
  },
  {
   "cell_type": "code",
   "execution_count": 20,
   "id": "af16a12a-3ad2-407f-bb27-c488bb3070a4",
   "metadata": {},
   "outputs": [
    {
     "name": "stdout",
     "output_type": "stream",
     "text": [
      "~True = -2\n",
      "~False = -1\n",
      "-1 << 10 = -1024\n"
     ]
    }
   ],
   "source": [
    "# Some interesting example\n",
    "print(f\"{~True = }\")\n",
    "print(f\"{~False = }\")\n",
    "print(f\"{-1 >> 10 = }\")\n"
   ]
  },
  {
   "cell_type": "markdown",
   "id": "4cc98064-a476-403e-aa0e-6f646be8f778",
   "metadata": {},
   "source": [
    "#### Other operator in various types.\n",
    "\n",
    "**Boolean Operators**\n",
    "| Operator | Result |\n",
    "| :---: | :---: |\n",
    "| `x or y` | if x is true, then x, else y |\n",
    "| `x and y` | if x is false, then x, else y |\n",
    "| `not x` | if x is false, then `True`, else `False`|\n",
    "\n",
    "> **Notes**:\n",
    "> 1.  The Boolean operations `or` and `and` always return one of their operands.\n",
    "> 2.  `or` and `and` is a short-circuit operator.\n",
    "> 3.  `not` has a lower priority than non-Boolean operators.\n",
    "\n",
    "> **Note: Truth Value Testing**\n",
    "> - Any object can be tested for truth value, for use in an if or while condition or as operand of the Boolean operations.\n",
    "> - Carefully, Truth Value is not boolean object.\n",
    "> - By default, an object is considered true. Here are most of the built-in objects considered false:\n",
    ">   - constants defined to be false: `None` and `False`\n",
    ">   - zero of any numeric type: `0`, `0.0`, `0j`, `Decimal(0)`, `Fraction(0, 1)`\n",
    ">   - empty sequences and collections: `''`, `()`, `[]`, `{}`, `set()`, `range(0)`"
   ]
  },
  {
   "cell_type": "code",
   "execution_count": 21,
   "id": "40848735-6055-423d-be91-acb0029eeb99",
   "metadata": {},
   "outputs": [
    {
     "name": "stdout",
     "output_type": "stream",
     "text": [
      "x = 10\n",
      "y = []\n",
      "(x is True) = False\n",
      "(y is not False) = True\n",
      "(y and x) = []\n",
      "(x or y) = 10\n",
      "z = 0j\n",
      "(z or y) = []\n",
      "(not y) = True\n"
     ]
    }
   ],
   "source": [
    "%reset -f\n",
    "#Example\n",
    "x = 10 # true\n",
    "y = [] # false\n",
    "z = 0j # false\n",
    "\n",
    "print(f\"{x = }\")\n",
    "print(f\"{y = }\")\n",
    "print(f\"{(x is True) = }\")\n",
    "print(f\"{(y is not False) = }\")\n",
    "print(f\"{(y and x) = }\")\n",
    "print(f\"{(x or y) = }\")\n",
    "print(f\"{z = }\")\n",
    "print(f\"{(z or y) = }\")\n",
    "print(f\"{(not y) = }\")"
   ]
  },
  {
   "cell_type": "code",
   "execution_count": 22,
   "id": "51a0d809-2b13-4fb8-964a-8c9d0c545e40",
   "metadata": {},
   "outputs": [
    {
     "name": "stdout",
     "output_type": "stream",
     "text": [
      "y.append(0) = None, y = [0]\n",
      "(x or y.append(0)) = 10, y = [0]\n",
      "(z or y.append(0)) = None, y = [0, 0]\n"
     ]
    }
   ],
   "source": [
    "%reset -f\n",
    "#Example\n",
    "x = 10 # true\n",
    "y = [] # false\n",
    "z = 0j # false\n",
    "\n",
    "print(f\"{y.append(0) = }, {y = }\")\n",
    "print(f\"{(x or y.append(0)) = }, {y = }\")\n",
    "print(f\"{(z or y.append(0)) = }, {y = }\")"
   ]
  },
  {
   "cell_type": "markdown",
   "id": "9b627890-90de-4e0c-97ec-fd3cf550487d",
   "metadata": {},
   "source": [
    "**More comparision operator**\n",
    "| Operator | Meaning |\n",
    "| :---: | :---: |\n",
    "| `is` | object identity |\n",
    "| `is not` | negated object identity |\n",
    "\n",
    "> **Notes**:\n",
    "> 1. `is not` is a operator, isn't combine between `is` and `not` operator. Example above, `y is not False` isn't `y is True`.\n",
    "> 2. Above operator will compare id of operand objects.\n"
   ]
  },
  {
   "cell_type": "code",
   "execution_count": 23,
   "id": "f98acd22-7a46-443d-92dd-560d8fd1c5de",
   "metadata": {},
   "outputs": [
    {
     "name": "stdout",
     "output_type": "stream",
     "text": [
      "(float_x is float_y) = False\n",
      "(float_x == float_y) = True\n",
      "(int_x is int_y) = True\n",
      "(int_x == int_y) = True\n",
      "(var is not False) = True\n",
      "(var is     True ) = False\n"
     ]
    }
   ],
   "source": [
    "%reset -f\n",
    "# Example\n",
    "float_x = 1.\n",
    "float_y = 1.\n",
    "int_x = 1\n",
    "int_y = 1\n",
    "var = []\n",
    "\n",
    "print(f\"{(float_x is float_y) = }\\n{(float_x == float_y) = }\")\n",
    "print(f\"{(int_x is int_y) = }\\n{(int_x == int_y) = }\")\n",
    "\n",
    "print(f\"{(var is not False) = }\")\n",
    "print(f\"{(var is     True ) = }\")"
   ]
  },
  {
   "cell_type": "markdown",
   "id": "6e68e4ed-ec8e-49dd-bb34-0e341d5e7695",
   "metadata": {},
   "source": [
    "**Assignment Operators**\n",
    "| Type assigment | Operator | \n",
    "| :---: | :---: |\n",
    "| Assigment | `=` |\n",
    "| Compound assigment | `+=`, `-=`, `*=`, `/=`, `//=`, `%=`, `&=`, `\\|=`, `^=`, `<<=`, `>>=` |\n",
    "| Walrus | `:=` |"
   ]
  },
  {
   "cell_type": "code",
   "execution_count": 25,
   "id": "6fd08804-ab5d-4631-abff-3bdd0e85bc0e",
   "metadata": {},
   "outputs": [
    {
     "ename": "SyntaxError",
     "evalue": "invalid syntax. Maybe you meant '==' or ':=' instead of '='? (2104653041.py, line 3)",
     "output_type": "error",
     "traceback": [
      "\u001b[1;36m  Cell \u001b[1;32mIn[25], line 3\u001b[1;36m\u001b[0m\n\u001b[1;33m    x = (y = 1) + 1\u001b[0m\n\u001b[1;37m         ^\u001b[0m\n\u001b[1;31mSyntaxError\u001b[0m\u001b[1;31m:\u001b[0m invalid syntax. Maybe you meant '==' or ':=' instead of '='?\n"
     ]
    }
   ],
   "source": [
    "%reset -f\n",
    "# Walrus example\n",
    "x = (y := 1) + 1\n",
    "print(f\"{x = }, {y = }\")"
   ]
  },
  {
   "cell_type": "markdown",
   "id": "9a7ae410-7498-4407-857f-310212829207",
   "metadata": {},
   "source": [
    "**Membership Operators**\n",
    "| Operator | Meaning |\n",
    "| :---: | :---: |\n",
    "| `in` | `True` if an item of s is equal to x, else False |\n",
    "| `not in` | False if an item of s is equal to x, else True |"
   ]
  },
  {
   "cell_type": "code",
   "execution_count": 26,
   "id": "133ca5cd-b882-4df0-8bb1-f1a2a9115b12",
   "metadata": {},
   "outputs": [
    {
     "name": "stdout",
     "output_type": "stream",
     "text": [
      "arr = [1, 2, 3]\n",
      "0 in arr = False\n",
      "1 in arr = True\n"
     ]
    }
   ],
   "source": [
    "%reset -f\n",
    "# Example\n",
    "arr = [1, 2, 3]\n",
    "print(f\"{arr = }\")\n",
    "print(f\"{0 in arr = }\")\n",
    "print(f\"{1 in arr = }\")\n"
   ]
  },
  {
   "cell_type": "markdown",
   "id": "ca38bf21-bcad-40af-8750-cc60a17e3295",
   "metadata": {},
   "source": [
    "**@ operator**  \n",
    "In some library, operator `@` is also used. Example in `numpy`, `@` operator is used as matrix multiplication operator.\n",
    "\n",
    "#### Operator precedence\n",
    "\n",
    "| Operator |\n",
    "| :---: |\n",
    "| `()` |\n",
    "| `**` |\n",
    "| `+x`, `-x`, `~x` |\n",
    "| `@`, `*`, `/`, `//`, `%` |\n",
    "| `+`, `-` |\n",
    "| `<<`, `>>` |\n",
    "| `&` |\n",
    "| `^` |\n",
    "| `\\|` |\n",
    "| `==`, `!=`, `>`, `<`, `<=`, `>=`, `is`, `is not`, `in`, `not in` |\n",
    "| `not` |\n",
    "| `and` |\n",
    "| `or` |\n",
    "| `=`, `+=`, `-=`, `*=`, `/=`, `//=`, `%=`, `&=`, `\\|=`, `^=`, `<<=`, `>>=`, `:=` |\n",
    "\n",
    "For more detail about operators and expression, check [here](https://docs.python.org/3/reference/expressions.html)."
   ]
  }
 ],
 "metadata": {
  "kernelspec": {
   "display_name": "Python 3",
   "language": "python",
   "name": "python3"
  },
  "language_info": {
   "codemirror_mode": {
    "name": "ipython",
    "version": 3
   },
   "file_extension": ".py",
   "mimetype": "text/x-python",
   "name": "python",
   "nbconvert_exporter": "python",
   "pygments_lexer": "ipython3",
   "version": "3.12.2"
  },
  "panel-cell-order": [
   "f11392d4-9e33-4d6f-b018-a3e8a031efc7"
  ]
 },
 "nbformat": 4,
 "nbformat_minor": 5
}
